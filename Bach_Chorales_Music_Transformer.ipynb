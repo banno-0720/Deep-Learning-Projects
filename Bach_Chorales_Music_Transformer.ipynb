{
  "nbformat": 4,
  "nbformat_minor": 0,
  "metadata": {
    "colab": {
      "provenance": [],
      "gpuType": "T4",
      "authorship_tag": "ABX9TyOL0VAcH+NPDGviXLdU7WRy",
      "include_colab_link": true
    },
    "kernelspec": {
      "name": "python3",
      "display_name": "Python 3"
    },
    "language_info": {
      "name": "python"
    },
    "accelerator": "GPU"
  },
  "cells": [
    {
      "cell_type": "markdown",
      "metadata": {
        "id": "view-in-github",
        "colab_type": "text"
      },
      "source": [
        "<a href=\"https://colab.research.google.com/github/banno-0720/Deep-Learning-Projects/blob/main/Bach_Chorales_Music_Transformer.ipynb\" target=\"_parent\"><img src=\"https://colab.research.google.com/assets/colab-badge.svg\" alt=\"Open In Colab\"/></a>"
      ]
    },
    {
      "cell_type": "markdown",
      "source": [
        "# Music Transformer\n",
        "\n",
        "The idea is to generate music from the dataset \"JSB chorales\".\n",
        "\n",
        "The JSB chorales are a set of short, four-voice pieces of music well-noted for their stylistic homogeneity. The chorales were originally composed by Johann Sebastian Bach in the 18th century. He wrote them by first taking pre-existing melodies from contemporary Lutheran hymns and then harmonising them to create the parts for the remaining three voices. The version of the dataset used canonically in representation learning contexts consists of 382 such chorales, with a train/validation/test split of 229, 76 and 77 samples respectively."
      ],
      "metadata": {
        "id": "1duN3Nfv7iRi"
      }
    },
    {
      "cell_type": "code",
      "execution_count": 37,
      "metadata": {
        "id": "5OQ6erwG6wVQ"
      },
      "outputs": [],
      "source": [
        "import os\n",
        "import pandas as pd\n",
        "import torch\n",
        "import torch.nn as nn\n",
        "import torch.optim as optim\n",
        "from torch.utils.data import Dataset, DataLoader\n",
        "from torch.nn.utils.rnn import pad_sequence\n",
        "import matplotlib.pyplot as plt"
      ]
    },
    {
      "cell_type": "markdown",
      "source": [
        "# Hyperparameters"
      ],
      "metadata": {
        "id": "foi-IPxVJBbR"
      }
    },
    {
      "cell_type": "code",
      "source": [
        "EMBED_DIM = 128\n",
        "N_HEADS = 8\n",
        "FF_DIM = 512\n",
        "NUM_LAYERS = 6\n",
        "SEQ_LEN = 1024\n",
        "BATCH_SIZE = 32\n",
        "LR = 1e-4\n",
        "EPOCHS = 100\n",
        "VOCAB_SIZE = 4371\n",
        "DEVICE = torch.device(\"cuda\" if torch.cuda.is_available() else \"cpu\")"
      ],
      "metadata": {
        "id": "IJG2rZbeJE3d"
      },
      "execution_count": 26,
      "outputs": []
    },
    {
      "cell_type": "markdown",
      "source": [
        "# Downloading dataset"
      ],
      "metadata": {
        "id": "VT2wP0jc804z"
      }
    },
    {
      "cell_type": "code",
      "source": [
        "!pip install opendatasets"
      ],
      "metadata": {
        "colab": {
          "base_uri": "https://localhost:8080/"
        },
        "id": "WBXpze5183rj",
        "outputId": "f92dcc77-2338-4304-9a61-30fef1ee6452"
      },
      "execution_count": 3,
      "outputs": [
        {
          "output_type": "stream",
          "name": "stdout",
          "text": [
            "Collecting opendatasets\n",
            "  Downloading opendatasets-0.1.22-py3-none-any.whl.metadata (9.2 kB)\n",
            "Requirement already satisfied: tqdm in /usr/local/lib/python3.11/dist-packages (from opendatasets) (4.67.1)\n",
            "Requirement already satisfied: kaggle in /usr/local/lib/python3.11/dist-packages (from opendatasets) (1.6.17)\n",
            "Requirement already satisfied: click in /usr/local/lib/python3.11/dist-packages (from opendatasets) (8.1.8)\n",
            "Requirement already satisfied: six>=1.10 in /usr/local/lib/python3.11/dist-packages (from kaggle->opendatasets) (1.17.0)\n",
            "Requirement already satisfied: certifi>=2023.7.22 in /usr/local/lib/python3.11/dist-packages (from kaggle->opendatasets) (2025.1.31)\n",
            "Requirement already satisfied: python-dateutil in /usr/local/lib/python3.11/dist-packages (from kaggle->opendatasets) (2.8.2)\n",
            "Requirement already satisfied: requests in /usr/local/lib/python3.11/dist-packages (from kaggle->opendatasets) (2.32.3)\n",
            "Requirement already satisfied: python-slugify in /usr/local/lib/python3.11/dist-packages (from kaggle->opendatasets) (8.0.4)\n",
            "Requirement already satisfied: urllib3 in /usr/local/lib/python3.11/dist-packages (from kaggle->opendatasets) (2.3.0)\n",
            "Requirement already satisfied: bleach in /usr/local/lib/python3.11/dist-packages (from kaggle->opendatasets) (6.2.0)\n",
            "Requirement already satisfied: webencodings in /usr/local/lib/python3.11/dist-packages (from bleach->kaggle->opendatasets) (0.5.1)\n",
            "Requirement already satisfied: text-unidecode>=1.3 in /usr/local/lib/python3.11/dist-packages (from python-slugify->kaggle->opendatasets) (1.3)\n",
            "Requirement already satisfied: charset-normalizer<4,>=2 in /usr/local/lib/python3.11/dist-packages (from requests->kaggle->opendatasets) (3.4.1)\n",
            "Requirement already satisfied: idna<4,>=2.5 in /usr/local/lib/python3.11/dist-packages (from requests->kaggle->opendatasets) (3.10)\n",
            "Downloading opendatasets-0.1.22-py3-none-any.whl (15 kB)\n",
            "Installing collected packages: opendatasets\n",
            "Successfully installed opendatasets-0.1.22\n"
          ]
        }
      ]
    },
    {
      "cell_type": "code",
      "source": [
        "import opendatasets as od"
      ],
      "metadata": {
        "id": "BdxVYcUo87OM"
      },
      "execution_count": 4,
      "outputs": []
    },
    {
      "cell_type": "code",
      "source": [
        "od.download(\"https://www.kaggle.com/datasets/pranjalsriv/bach-chorales-2\")"
      ],
      "metadata": {
        "colab": {
          "base_uri": "https://localhost:8080/"
        },
        "id": "tpXREC0D89qJ",
        "outputId": "88cb060b-fdf9-4d81-ee2a-fbf526009d7c"
      },
      "execution_count": 5,
      "outputs": [
        {
          "output_type": "stream",
          "name": "stdout",
          "text": [
            "Please provide your Kaggle credentials to download this dataset. Learn more: http://bit.ly/kaggle-creds\n",
            "Your Kaggle username: himanshugoyal2004\n",
            "Your Kaggle Key: ··········\n",
            "Dataset URL: https://www.kaggle.com/datasets/pranjalsriv/bach-chorales-2\n",
            "Downloading bach-chorales-2.zip to ./bach-chorales-2\n"
          ]
        },
        {
          "output_type": "stream",
          "name": "stderr",
          "text": [
            "100%|██████████| 190k/190k [00:00<00:00, 64.9MB/s]"
          ]
        },
        {
          "output_type": "stream",
          "name": "stdout",
          "text": [
            "\n"
          ]
        },
        {
          "output_type": "stream",
          "name": "stderr",
          "text": [
            "\n"
          ]
        }
      ]
    },
    {
      "cell_type": "markdown",
      "source": [
        "# Data Loading And Preprocessing"
      ],
      "metadata": {
        "id": "y2b63jG4-I_N"
      }
    },
    {
      "cell_type": "code",
      "source": [
        "pd.read_csv(\"/content/bach-chorales-2/test/chorale_305.csv\")"
      ],
      "metadata": {
        "colab": {
          "base_uri": "https://localhost:8080/",
          "height": 424
        },
        "id": "n77llEfyArq3",
        "outputId": "c3481713-ddbc-455e-c6ca-3495531939ed"
      },
      "execution_count": 6,
      "outputs": [
        {
          "output_type": "execute_result",
          "data": {
            "text/plain": [
              "     note0  note1  note2  note3\n",
              "0       65     60     57     53\n",
              "1       65     60     57     53\n",
              "2       65     60     57     53\n",
              "3       65     60     57     53\n",
              "4       72     60     55     52\n",
              "..     ...    ...    ...    ...\n",
              "223     65     60     57     41\n",
              "224     65     60     57     41\n",
              "225     65     60     57     41\n",
              "226     65     60     57     41\n",
              "227     65     60     57     41\n",
              "\n",
              "[228 rows x 4 columns]"
            ],
            "text/html": [
              "\n",
              "  <div id=\"df-c429b0da-d372-4903-aed1-eb9cb90dbc83\" class=\"colab-df-container\">\n",
              "    <div>\n",
              "<style scoped>\n",
              "    .dataframe tbody tr th:only-of-type {\n",
              "        vertical-align: middle;\n",
              "    }\n",
              "\n",
              "    .dataframe tbody tr th {\n",
              "        vertical-align: top;\n",
              "    }\n",
              "\n",
              "    .dataframe thead th {\n",
              "        text-align: right;\n",
              "    }\n",
              "</style>\n",
              "<table border=\"1\" class=\"dataframe\">\n",
              "  <thead>\n",
              "    <tr style=\"text-align: right;\">\n",
              "      <th></th>\n",
              "      <th>note0</th>\n",
              "      <th>note1</th>\n",
              "      <th>note2</th>\n",
              "      <th>note3</th>\n",
              "    </tr>\n",
              "  </thead>\n",
              "  <tbody>\n",
              "    <tr>\n",
              "      <th>0</th>\n",
              "      <td>65</td>\n",
              "      <td>60</td>\n",
              "      <td>57</td>\n",
              "      <td>53</td>\n",
              "    </tr>\n",
              "    <tr>\n",
              "      <th>1</th>\n",
              "      <td>65</td>\n",
              "      <td>60</td>\n",
              "      <td>57</td>\n",
              "      <td>53</td>\n",
              "    </tr>\n",
              "    <tr>\n",
              "      <th>2</th>\n",
              "      <td>65</td>\n",
              "      <td>60</td>\n",
              "      <td>57</td>\n",
              "      <td>53</td>\n",
              "    </tr>\n",
              "    <tr>\n",
              "      <th>3</th>\n",
              "      <td>65</td>\n",
              "      <td>60</td>\n",
              "      <td>57</td>\n",
              "      <td>53</td>\n",
              "    </tr>\n",
              "    <tr>\n",
              "      <th>4</th>\n",
              "      <td>72</td>\n",
              "      <td>60</td>\n",
              "      <td>55</td>\n",
              "      <td>52</td>\n",
              "    </tr>\n",
              "    <tr>\n",
              "      <th>...</th>\n",
              "      <td>...</td>\n",
              "      <td>...</td>\n",
              "      <td>...</td>\n",
              "      <td>...</td>\n",
              "    </tr>\n",
              "    <tr>\n",
              "      <th>223</th>\n",
              "      <td>65</td>\n",
              "      <td>60</td>\n",
              "      <td>57</td>\n",
              "      <td>41</td>\n",
              "    </tr>\n",
              "    <tr>\n",
              "      <th>224</th>\n",
              "      <td>65</td>\n",
              "      <td>60</td>\n",
              "      <td>57</td>\n",
              "      <td>41</td>\n",
              "    </tr>\n",
              "    <tr>\n",
              "      <th>225</th>\n",
              "      <td>65</td>\n",
              "      <td>60</td>\n",
              "      <td>57</td>\n",
              "      <td>41</td>\n",
              "    </tr>\n",
              "    <tr>\n",
              "      <th>226</th>\n",
              "      <td>65</td>\n",
              "      <td>60</td>\n",
              "      <td>57</td>\n",
              "      <td>41</td>\n",
              "    </tr>\n",
              "    <tr>\n",
              "      <th>227</th>\n",
              "      <td>65</td>\n",
              "      <td>60</td>\n",
              "      <td>57</td>\n",
              "      <td>41</td>\n",
              "    </tr>\n",
              "  </tbody>\n",
              "</table>\n",
              "<p>228 rows × 4 columns</p>\n",
              "</div>\n",
              "    <div class=\"colab-df-buttons\">\n",
              "\n",
              "  <div class=\"colab-df-container\">\n",
              "    <button class=\"colab-df-convert\" onclick=\"convertToInteractive('df-c429b0da-d372-4903-aed1-eb9cb90dbc83')\"\n",
              "            title=\"Convert this dataframe to an interactive table.\"\n",
              "            style=\"display:none;\">\n",
              "\n",
              "  <svg xmlns=\"http://www.w3.org/2000/svg\" height=\"24px\" viewBox=\"0 -960 960 960\">\n",
              "    <path d=\"M120-120v-720h720v720H120Zm60-500h600v-160H180v160Zm220 220h160v-160H400v160Zm0 220h160v-160H400v160ZM180-400h160v-160H180v160Zm440 0h160v-160H620v160ZM180-180h160v-160H180v160Zm440 0h160v-160H620v160Z\"/>\n",
              "  </svg>\n",
              "    </button>\n",
              "\n",
              "  <style>\n",
              "    .colab-df-container {\n",
              "      display:flex;\n",
              "      gap: 12px;\n",
              "    }\n",
              "\n",
              "    .colab-df-convert {\n",
              "      background-color: #E8F0FE;\n",
              "      border: none;\n",
              "      border-radius: 50%;\n",
              "      cursor: pointer;\n",
              "      display: none;\n",
              "      fill: #1967D2;\n",
              "      height: 32px;\n",
              "      padding: 0 0 0 0;\n",
              "      width: 32px;\n",
              "    }\n",
              "\n",
              "    .colab-df-convert:hover {\n",
              "      background-color: #E2EBFA;\n",
              "      box-shadow: 0px 1px 2px rgba(60, 64, 67, 0.3), 0px 1px 3px 1px rgba(60, 64, 67, 0.15);\n",
              "      fill: #174EA6;\n",
              "    }\n",
              "\n",
              "    .colab-df-buttons div {\n",
              "      margin-bottom: 4px;\n",
              "    }\n",
              "\n",
              "    [theme=dark] .colab-df-convert {\n",
              "      background-color: #3B4455;\n",
              "      fill: #D2E3FC;\n",
              "    }\n",
              "\n",
              "    [theme=dark] .colab-df-convert:hover {\n",
              "      background-color: #434B5C;\n",
              "      box-shadow: 0px 1px 3px 1px rgba(0, 0, 0, 0.15);\n",
              "      filter: drop-shadow(0px 1px 2px rgba(0, 0, 0, 0.3));\n",
              "      fill: #FFFFFF;\n",
              "    }\n",
              "  </style>\n",
              "\n",
              "    <script>\n",
              "      const buttonEl =\n",
              "        document.querySelector('#df-c429b0da-d372-4903-aed1-eb9cb90dbc83 button.colab-df-convert');\n",
              "      buttonEl.style.display =\n",
              "        google.colab.kernel.accessAllowed ? 'block' : 'none';\n",
              "\n",
              "      async function convertToInteractive(key) {\n",
              "        const element = document.querySelector('#df-c429b0da-d372-4903-aed1-eb9cb90dbc83');\n",
              "        const dataTable =\n",
              "          await google.colab.kernel.invokeFunction('convertToInteractive',\n",
              "                                                    [key], {});\n",
              "        if (!dataTable) return;\n",
              "\n",
              "        const docLinkHtml = 'Like what you see? Visit the ' +\n",
              "          '<a target=\"_blank\" href=https://colab.research.google.com/notebooks/data_table.ipynb>data table notebook</a>'\n",
              "          + ' to learn more about interactive tables.';\n",
              "        element.innerHTML = '';\n",
              "        dataTable['output_type'] = 'display_data';\n",
              "        await google.colab.output.renderOutput(dataTable, element);\n",
              "        const docLink = document.createElement('div');\n",
              "        docLink.innerHTML = docLinkHtml;\n",
              "        element.appendChild(docLink);\n",
              "      }\n",
              "    </script>\n",
              "  </div>\n",
              "\n",
              "\n",
              "<div id=\"df-acb3bc2a-f6f8-4aef-acf0-0eb987e74759\">\n",
              "  <button class=\"colab-df-quickchart\" onclick=\"quickchart('df-acb3bc2a-f6f8-4aef-acf0-0eb987e74759')\"\n",
              "            title=\"Suggest charts\"\n",
              "            style=\"display:none;\">\n",
              "\n",
              "<svg xmlns=\"http://www.w3.org/2000/svg\" height=\"24px\"viewBox=\"0 0 24 24\"\n",
              "     width=\"24px\">\n",
              "    <g>\n",
              "        <path d=\"M19 3H5c-1.1 0-2 .9-2 2v14c0 1.1.9 2 2 2h14c1.1 0 2-.9 2-2V5c0-1.1-.9-2-2-2zM9 17H7v-7h2v7zm4 0h-2V7h2v10zm4 0h-2v-4h2v4z\"/>\n",
              "    </g>\n",
              "</svg>\n",
              "  </button>\n",
              "\n",
              "<style>\n",
              "  .colab-df-quickchart {\n",
              "      --bg-color: #E8F0FE;\n",
              "      --fill-color: #1967D2;\n",
              "      --hover-bg-color: #E2EBFA;\n",
              "      --hover-fill-color: #174EA6;\n",
              "      --disabled-fill-color: #AAA;\n",
              "      --disabled-bg-color: #DDD;\n",
              "  }\n",
              "\n",
              "  [theme=dark] .colab-df-quickchart {\n",
              "      --bg-color: #3B4455;\n",
              "      --fill-color: #D2E3FC;\n",
              "      --hover-bg-color: #434B5C;\n",
              "      --hover-fill-color: #FFFFFF;\n",
              "      --disabled-bg-color: #3B4455;\n",
              "      --disabled-fill-color: #666;\n",
              "  }\n",
              "\n",
              "  .colab-df-quickchart {\n",
              "    background-color: var(--bg-color);\n",
              "    border: none;\n",
              "    border-radius: 50%;\n",
              "    cursor: pointer;\n",
              "    display: none;\n",
              "    fill: var(--fill-color);\n",
              "    height: 32px;\n",
              "    padding: 0;\n",
              "    width: 32px;\n",
              "  }\n",
              "\n",
              "  .colab-df-quickchart:hover {\n",
              "    background-color: var(--hover-bg-color);\n",
              "    box-shadow: 0 1px 2px rgba(60, 64, 67, 0.3), 0 1px 3px 1px rgba(60, 64, 67, 0.15);\n",
              "    fill: var(--button-hover-fill-color);\n",
              "  }\n",
              "\n",
              "  .colab-df-quickchart-complete:disabled,\n",
              "  .colab-df-quickchart-complete:disabled:hover {\n",
              "    background-color: var(--disabled-bg-color);\n",
              "    fill: var(--disabled-fill-color);\n",
              "    box-shadow: none;\n",
              "  }\n",
              "\n",
              "  .colab-df-spinner {\n",
              "    border: 2px solid var(--fill-color);\n",
              "    border-color: transparent;\n",
              "    border-bottom-color: var(--fill-color);\n",
              "    animation:\n",
              "      spin 1s steps(1) infinite;\n",
              "  }\n",
              "\n",
              "  @keyframes spin {\n",
              "    0% {\n",
              "      border-color: transparent;\n",
              "      border-bottom-color: var(--fill-color);\n",
              "      border-left-color: var(--fill-color);\n",
              "    }\n",
              "    20% {\n",
              "      border-color: transparent;\n",
              "      border-left-color: var(--fill-color);\n",
              "      border-top-color: var(--fill-color);\n",
              "    }\n",
              "    30% {\n",
              "      border-color: transparent;\n",
              "      border-left-color: var(--fill-color);\n",
              "      border-top-color: var(--fill-color);\n",
              "      border-right-color: var(--fill-color);\n",
              "    }\n",
              "    40% {\n",
              "      border-color: transparent;\n",
              "      border-right-color: var(--fill-color);\n",
              "      border-top-color: var(--fill-color);\n",
              "    }\n",
              "    60% {\n",
              "      border-color: transparent;\n",
              "      border-right-color: var(--fill-color);\n",
              "    }\n",
              "    80% {\n",
              "      border-color: transparent;\n",
              "      border-right-color: var(--fill-color);\n",
              "      border-bottom-color: var(--fill-color);\n",
              "    }\n",
              "    90% {\n",
              "      border-color: transparent;\n",
              "      border-bottom-color: var(--fill-color);\n",
              "    }\n",
              "  }\n",
              "</style>\n",
              "\n",
              "  <script>\n",
              "    async function quickchart(key) {\n",
              "      const quickchartButtonEl =\n",
              "        document.querySelector('#' + key + ' button');\n",
              "      quickchartButtonEl.disabled = true;  // To prevent multiple clicks.\n",
              "      quickchartButtonEl.classList.add('colab-df-spinner');\n",
              "      try {\n",
              "        const charts = await google.colab.kernel.invokeFunction(\n",
              "            'suggestCharts', [key], {});\n",
              "      } catch (error) {\n",
              "        console.error('Error during call to suggestCharts:', error);\n",
              "      }\n",
              "      quickchartButtonEl.classList.remove('colab-df-spinner');\n",
              "      quickchartButtonEl.classList.add('colab-df-quickchart-complete');\n",
              "    }\n",
              "    (() => {\n",
              "      let quickchartButtonEl =\n",
              "        document.querySelector('#df-acb3bc2a-f6f8-4aef-acf0-0eb987e74759 button');\n",
              "      quickchartButtonEl.style.display =\n",
              "        google.colab.kernel.accessAllowed ? 'block' : 'none';\n",
              "    })();\n",
              "  </script>\n",
              "</div>\n",
              "\n",
              "    </div>\n",
              "  </div>\n"
            ],
            "application/vnd.google.colaboratory.intrinsic+json": {
              "type": "dataframe",
              "summary": "{\n  \"name\": \"pd\",\n  \"rows\": 228,\n  \"fields\": [\n    {\n      \"column\": \"note0\",\n      \"properties\": {\n        \"dtype\": \"number\",\n        \"std\": 3,\n        \"min\": 65,\n        \"max\": 77,\n        \"num_unique_values\": 8,\n        \"samples\": [\n          72,\n          74,\n          65\n        ],\n        \"semantic_type\": \"\",\n        \"description\": \"\"\n      }\n    },\n    {\n      \"column\": \"note1\",\n      \"properties\": {\n        \"dtype\": \"number\",\n        \"std\": 2,\n        \"min\": 60,\n        \"max\": 69,\n        \"num_unique_values\": 6,\n        \"samples\": [\n          60,\n          62,\n          69\n        ],\n        \"semantic_type\": \"\",\n        \"description\": \"\"\n      }\n    },\n    {\n      \"column\": \"note2\",\n      \"properties\": {\n        \"dtype\": \"number\",\n        \"std\": 2,\n        \"min\": 53,\n        \"max\": 64,\n        \"num_unique_values\": 8,\n        \"samples\": [\n          55,\n          59,\n          57\n        ],\n        \"semantic_type\": \"\",\n        \"description\": \"\"\n      }\n    },\n    {\n      \"column\": \"note3\",\n      \"properties\": {\n        \"dtype\": \"number\",\n        \"std\": 5,\n        \"min\": 38,\n        \"max\": 60,\n        \"num_unique_values\": 13,\n        \"samples\": [\n          43,\n          60,\n          53\n        ],\n        \"semantic_type\": \"\",\n        \"description\": \"\"\n      }\n    }\n  ]\n}"
            }
          },
          "metadata": {},
          "execution_count": 6
        }
      ]
    },
    {
      "cell_type": "code",
      "source": [
        "def load_chorale_csv(file_path):\n",
        "    \"\"\"\n",
        "    Load a chorale CSV file and return a list of chord tuples.\n",
        "    Each chord is a tuple (note0, note1, note2, note3) from one time step.\n",
        "    \"\"\"\n",
        "    # If your CSVs are comma-separated, you can remove the sep argument\n",
        "    df = pd.read_csv(file_path)\n",
        "\n",
        "    chords = []\n",
        "    # Iterate over rows; each row is a time step\n",
        "    for _, row in df.iterrows():\n",
        "        chord = (int(row['note0']), int(row['note1']), int(row['note2']), int(row['note3']))\n",
        "        chords.append(chord)\n",
        "    return chords"
      ],
      "metadata": {
        "id": "EihN7MftEw62"
      },
      "execution_count": 7,
      "outputs": []
    },
    {
      "cell_type": "code",
      "source": [
        "def load_jsb_chorales_from_folder(folder_path):\n",
        "    \"\"\"\n",
        "    Load all chorale CSV files from a folder and return a list of sequences.\n",
        "    Each sequence is a list of chord tuples.\n",
        "    \"\"\"\n",
        "    sequences = []\n",
        "    for file_name in sorted(os.listdir(folder_path)):\n",
        "        file_path = os.path.join(folder_path, file_name)\n",
        "        if file_path.endswith(\".csv\"):\n",
        "            seq = load_chorale_csv(file_path)\n",
        "            sequences.append(seq)\n",
        "    return sequences\n"
      ],
      "metadata": {
        "id": "oXmMakyA_7KX"
      },
      "execution_count": 8,
      "outputs": []
    },
    {
      "cell_type": "code",
      "source": [
        "train_sequences = load_jsb_chorales_from_folder(\"/content/bach-chorales-2/train\")\n",
        "valid_sequences = load_jsb_chorales_from_folder(\"/content/bach-chorales-2/valid\")\n",
        "test_sequences  = load_jsb_chorales_from_folder(\"/content/bach-chorales-2/test\")"
      ],
      "metadata": {
        "id": "BomScW6nF1ap"
      },
      "execution_count": 9,
      "outputs": []
    },
    {
      "cell_type": "code",
      "source": [
        "def build_vocab(sequences):\n",
        "    \"\"\"\n",
        "    Build a vocabulary mapping from chord tuples to unique integer indices.\n",
        "    \"\"\"\n",
        "    vocab = {}\n",
        "    for seq in sequences:\n",
        "        for chord in seq:\n",
        "            if chord not in vocab:\n",
        "                vocab[chord] = len(vocab)\n",
        "\n",
        "    # Add a special unknown token\n",
        "    vocab['<UNK>'] = len(vocab)\n",
        "\n",
        "    return vocab"
      ],
      "metadata": {
        "id": "DGnbYP7kFB1Z"
      },
      "execution_count": 10,
      "outputs": []
    },
    {
      "cell_type": "code",
      "source": [
        "# Build vocabulary from training sequences\n",
        "vocab = build_vocab(train_sequences)\n",
        "vocab_size = len(vocab)\n",
        "print(f\"Vocabulary size: {vocab_size}\")"
      ],
      "metadata": {
        "colab": {
          "base_uri": "https://localhost:8080/"
        },
        "id": "vf6htB5LHiLK",
        "outputId": "8932ba11-267d-42f2-e398-0d4bae7595fd"
      },
      "execution_count": 11,
      "outputs": [
        {
          "output_type": "stream",
          "name": "stdout",
          "text": [
            "Vocabulary size: 4371\n"
          ]
        }
      ]
    },
    {
      "cell_type": "markdown",
      "source": [
        "# DataLoader"
      ],
      "metadata": {
        "id": "cT-48PsZEmNB"
      }
    },
    {
      "cell_type": "code",
      "source": [
        "class MusicDataset(Dataset):\n",
        "    \"\"\"\n",
        "    Custom Dataset: Each chorale sequence is converted to a sequence of indices.\n",
        "    For next-token prediction, the input is all tokens except the last,\n",
        "    and the target is all tokens except the first.\n",
        "    \"\"\"\n",
        "    def __init__(self, sequences, vocab):\n",
        "        # Convert chord tuples in each sequence to indices using the provided vocab.\n",
        "        # If a chord is not found, it will be replaced with the '<UNK>' token.\n",
        "        self.sequences = [torch.tensor([vocab.get(chord, vocab['<UNK>']) for chord in seq]) for seq in sequences]\n",
        "\n",
        "    def __len__(self):\n",
        "        return len(self.sequences)\n",
        "\n",
        "    def __getitem__(self, idx):\n",
        "        seq = self.sequences[idx]\n",
        "        return seq[:-1], seq[1:]"
      ],
      "metadata": {
        "id": "CQEwFa-AFXO5"
      },
      "execution_count": 12,
      "outputs": []
    },
    {
      "cell_type": "code",
      "source": [
        "def collate_fn(batch):\n",
        "    \"\"\"\n",
        "    Pad variable-length sequences in a batch.\n",
        "    \"\"\"\n",
        "    inputs, targets = zip(*batch)\n",
        "    inputs = pad_sequence(inputs, batch_first=True, padding_value=0)\n",
        "    targets = pad_sequence(targets, batch_first=True, padding_value=0)\n",
        "    return inputs, targets"
      ],
      "metadata": {
        "id": "u8hKb0TgFXrZ"
      },
      "execution_count": 13,
      "outputs": []
    },
    {
      "cell_type": "code",
      "source": [
        "# Create datasets (convert chord tuples to indices)\n",
        "train_dataset = MusicDataset(train_sequences, vocab)\n",
        "valid_dataset = MusicDataset(valid_sequences, vocab)\n",
        "test_dataset  = MusicDataset(test_sequences, vocab)"
      ],
      "metadata": {
        "id": "Dq7SWF4OHryT"
      },
      "execution_count": 14,
      "outputs": []
    },
    {
      "cell_type": "code",
      "source": [
        "# Create DataLoaders\n",
        "train_loader = DataLoader(train_dataset, batch_size=BATCH_SIZE, collate_fn=collate_fn, shuffle=True)\n",
        "valid_loader = DataLoader(valid_dataset, batch_size=BATCH_SIZE, collate_fn=collate_fn)\n",
        "test_loader = DataLoader(test_dataset, batch_size=BATCH_SIZE, collate_fn=collate_fn)"
      ],
      "metadata": {
        "id": "nfrXpy3IFbhO"
      },
      "execution_count": 30,
      "outputs": []
    },
    {
      "cell_type": "markdown",
      "source": [
        "# Transformer Model"
      ],
      "metadata": {
        "id": "qlYFTJTnIq19"
      }
    },
    {
      "cell_type": "code",
      "source": [
        "class MusicTransformer(nn.Module):\n",
        "  def __init__(self, vocab_size=VOCAB_SIZE, embed_dim=EMBED_DIM, num_heads=N_HEADS, ff_dim=FF_DIM, num_layers=NUM_LAYERS):\n",
        "    super(MusicTransformer,self).__init__()\n",
        "    self.embedding = nn.Embedding(vocab_size, embed_dim)\n",
        "    # Learnable positional encoding; ensure its length covers your expected sequence lengths\n",
        "    self.pos_encoding = nn.Parameter(torch.zeros(1, SEQ_LEN, embed_dim))\n",
        "    encoder_layer = nn.TransformerEncoderLayer(d_model=embed_dim, nhead=num_heads, dim_feedforward=ff_dim, batch_first=True)\n",
        "    self.transformer = nn.TransformerEncoder(encoder_layer, num_layers=num_layers)\n",
        "    self.fc = nn.Linear(embed_dim, vocab_size)\n",
        "\n",
        "  def forward(self, x):\n",
        "    # Add positional encoding to the embed tokens\n",
        "    x = self.embedding(x) + self.pos_encoding[:, :x.size(1), :]\n",
        "    x = self.transformer(x)\n",
        "    return self.fc(x)"
      ],
      "metadata": {
        "id": "WaBWjXDpJ9Tv"
      },
      "execution_count": 27,
      "outputs": []
    },
    {
      "cell_type": "code",
      "source": [
        "# Initialize model, optimizer, and loss criterion\n",
        "model = MusicTransformer(vocab_size).to(DEVICE)\n",
        "optimizer = optim.Adam(model.parameters(), lr=LR)\n",
        "criterion = nn.CrossEntropyLoss()"
      ],
      "metadata": {
        "id": "8v3XqehQN9du"
      },
      "execution_count": 28,
      "outputs": []
    },
    {
      "cell_type": "markdown",
      "source": [
        "# Training Loop"
      ],
      "metadata": {
        "id": "eYyWxuvBOCsB"
      }
    },
    {
      "cell_type": "code",
      "source": [
        "train_losses = []\n",
        "test_losses = []\n",
        "test_accuracies = []\n",
        "\n",
        "for epoch in range(EPOCHS):\n",
        "  model.train()\n",
        "  total_loss = 0\n",
        "  for inputs, targets in train_loader:\n",
        "    inputs, targets = inputs.to(DEVICE), targets.to(DEVICE)\n",
        "    optimizer.zero_grad()\n",
        "    outputs = model(inputs)\n",
        "    loss = criterion(outputs.view(-1, outputs.size(-1)), targets.view(-1))\n",
        "    loss.backward()\n",
        "    optimizer.step()\n",
        "    total_loss += loss.item()\n",
        "  train_losses.append(avg_loss)\n",
        "  avg_loss = total_loss / len(train_loader)\n",
        "\n",
        "  model.eval()  # Turn off dropout, etc.\n",
        "  total_test_loss = 0\n",
        "  correct = 0\n",
        "  total_tokens = 0\n",
        "  with torch.inference_mode():\n",
        "      for inputs, targets in test_loader:\n",
        "          inputs, targets = inputs.to(DEVICE), targets.to(DEVICE)\n",
        "          test_pred = model(inputs)  # Forward pass\n",
        "          loss = criterion(test_pred.view(-1, test_pred.size(-1)), targets.view(-1))\n",
        "          total_test_loss += loss.item()\n",
        "\n",
        "          # Calculate accuracy\n",
        "          predictions = torch.argmax(test_pred, dim=-1)\n",
        "          correct += (predictions == targets).sum().item()\n",
        "          total_tokens += targets.numel()\n",
        "  avg_test_loss = total_test_loss / len(test_loader)\n",
        "  accuracy = correct / total_tokens * 100  # accuracy percentage\n",
        "  test_losses.append(avg_test_loss)\n",
        "  test_accuracies.append(accuracy)\n",
        "  print(f\"Epoch {epoch+1}/{EPOCHS}, Train Loss: {avg_loss:.4f}, Test Loss: {avg_test_loss:.4f}, Test Accuracy: {accuracy:.2f}%\")"
      ],
      "metadata": {
        "colab": {
          "base_uri": "https://localhost:8080/"
        },
        "id": "Dr19u6LkOlrh",
        "outputId": "b563a6a9-eb8e-4a65-990b-aa3d6bed4d88"
      },
      "execution_count": 40,
      "outputs": [
        {
          "output_type": "stream",
          "name": "stdout",
          "text": [
            "Epoch 1/20, Train Loss: 2.1933, Test Loss: 2.1993, Test Accuracy: 76.39%\n",
            "Epoch 2/20, Train Loss: 2.2055, Test Loss: 2.1886, Test Accuracy: 76.51%\n",
            "Epoch 3/20, Train Loss: 2.3065, Test Loss: 2.1838, Test Accuracy: 76.52%\n",
            "Epoch 4/20, Train Loss: 2.2438, Test Loss: 2.1795, Test Accuracy: 76.60%\n",
            "Epoch 5/20, Train Loss: 2.3030, Test Loss: 2.1746, Test Accuracy: 76.59%\n",
            "Epoch 6/20, Train Loss: 2.0736, Test Loss: 2.1677, Test Accuracy: 76.65%\n",
            "Epoch 7/20, Train Loss: 2.2025, Test Loss: 2.1596, Test Accuracy: 76.74%\n",
            "Epoch 8/20, Train Loss: 2.2005, Test Loss: 2.1570, Test Accuracy: 76.79%\n",
            "Epoch 9/20, Train Loss: 2.0833, Test Loss: 2.1540, Test Accuracy: 76.74%\n",
            "Epoch 10/20, Train Loss: 2.2041, Test Loss: 2.1444, Test Accuracy: 76.78%\n",
            "Epoch 11/20, Train Loss: 2.2358, Test Loss: 2.1387, Test Accuracy: 76.90%\n",
            "Epoch 12/20, Train Loss: 2.2706, Test Loss: 2.1352, Test Accuracy: 76.90%\n",
            "Epoch 13/20, Train Loss: 2.2868, Test Loss: 2.1300, Test Accuracy: 76.99%\n",
            "Epoch 14/20, Train Loss: 2.1266, Test Loss: 2.1264, Test Accuracy: 77.01%\n",
            "Epoch 15/20, Train Loss: 2.2164, Test Loss: 2.1188, Test Accuracy: 77.07%\n",
            "Epoch 16/20, Train Loss: 2.1799, Test Loss: 2.1127, Test Accuracy: 77.19%\n",
            "Epoch 17/20, Train Loss: 2.0725, Test Loss: 2.1117, Test Accuracy: 77.13%\n",
            "Epoch 18/20, Train Loss: 2.1527, Test Loss: 2.1081, Test Accuracy: 77.17%\n",
            "Epoch 19/20, Train Loss: 2.0666, Test Loss: 2.0988, Test Accuracy: 77.23%\n",
            "Epoch 20/20, Train Loss: 2.1790, Test Loss: 2.0956, Test Accuracy: 77.23%\n"
          ]
        }
      ]
    },
    {
      "cell_type": "markdown",
      "source": [
        "# Visualize the model"
      ],
      "metadata": {
        "id": "ABKwP3waOsxL"
      }
    },
    {
      "cell_type": "code",
      "source": [
        "plt.figure(figsize=(10, 6))\n",
        "plt.subplot(2, 1, 1)\n",
        "plt.plot(range(1, EPOCHS+1), train_losses, label=\"Train Loss\")\n",
        "plt.plot(range(1, EPOCHS+1), test_losses, label=\"Test Loss\")\n",
        "plt.xlabel(\"Epochs\")\n",
        "plt.ylabel(\"Loss\")\n",
        "plt.title(\"Loss Curve\")\n",
        "plt.legend()\n",
        "\n",
        "plt.subplot(2, 1, 2)\n",
        "plt.plot(range(1, EPOCHS+1), test_accuracies, label=\"Test Accuracy\", color=\"green\")\n",
        "plt.xlabel(\"Epochs\")\n",
        "plt.ylabel(\"Accuracy (%)\")\n",
        "plt.title(\"Test Accuracy\")\n",
        "plt.legend()\n",
        "\n",
        "plt.tight_layout()\n",
        "plt.show()\n",
        "# Ignore my graph it is trained again and again since i added the list later on and didnt restart the model"
      ],
      "metadata": {
        "colab": {
          "base_uri": "https://localhost:8080/",
          "height": 607
        },
        "id": "dE-RmKw4SFIK",
        "outputId": "ea2ffaa2-5287-4987-8c78-80cf0977fc57"
      },
      "execution_count": 41,
      "outputs": [
        {
          "output_type": "display_data",
          "data": {
            "text/plain": [
              "<Figure size 1000x600 with 2 Axes>"
            ],
            "image/png": "[encoded data removed]"
          },
          "metadata": {}
        }
      ]
    },
    {
      "cell_type": "markdown",
      "source": [
        "# Saving the model"
      ],
      "metadata": {
        "id": "c1C_RagmVnTq"
      }
    },
    {
      "cell_type": "code",
      "source": [
        "torch.save(model.state_dict(), \"music_transformer.pth\")\n",
        "print(\"Model saved as music_transformer.pth\")"
      ],
      "metadata": {
        "colab": {
          "base_uri": "https://localhost:8080/"
        },
        "id": "Yqese6FCWyiP",
        "outputId": "79c2e4c4-7133-4f46-a8ff-db139362b570"
      },
      "execution_count": 42,
      "outputs": [
        {
          "output_type": "stream",
          "name": "stdout",
          "text": [
            "Model saved as music_transformer.pth\n"
          ]
        }
      ]
    },
    {
      "cell_type": "markdown",
      "source": [
        "# ONNX Export"
      ],
      "metadata": {
        "id": "ftd92XtIWz6f"
      }
    },
    {
      "cell_type": "code",
      "source": [
        "import torch.onnx"
      ],
      "metadata": {
        "id": "WLQvto05XFc0"
      },
      "execution_count": 44,
      "outputs": []
    },
    {
      "cell_type": "code",
      "source": [
        "!pip install onnx"
      ],
      "metadata": {
        "colab": {
          "base_uri": "https://localhost:8080/"
        },
        "id": "v6RyLoIaXM1L",
        "outputId": "1920638b-8f3d-4baa-82d5-77c7df3bebc9"
      },
      "execution_count": 46,
      "outputs": [
        {
          "output_type": "stream",
          "name": "stdout",
          "text": [
            "Collecting onnx\n",
            "  Downloading onnx-1.17.0-cp311-cp311-manylinux_2_17_x86_64.manylinux2014_x86_64.whl.metadata (16 kB)\n",
            "Requirement already satisfied: numpy>=1.20 in /usr/local/lib/python3.11/dist-packages (from onnx) (1.26.4)\n",
            "Requirement already satisfied: protobuf>=3.20.2 in /usr/local/lib/python3.11/dist-packages (from onnx) (4.25.6)\n",
            "Downloading onnx-1.17.0-cp311-cp311-manylinux_2_17_x86_64.manylinux2014_x86_64.whl (16.0 MB)\n",
            "\u001b[2K   \u001b[90m━━━━━━━━━━━━━━━━━━━━━━━━━━━━━━━━━━━━━━━━\u001b[0m \u001b[32m16.0/16.0 MB\u001b[0m \u001b[31m106.8 MB/s\u001b[0m eta \u001b[36m0:00:00\u001b[0m\n",
            "\u001b[?25hInstalling collected packages: onnx\n",
            "Successfully installed onnx-1.17.0\n"
          ]
        }
      ]
    },
    {
      "cell_type": "code",
      "source": [
        "# Create a dummy input for export with batch size 1 and sequence length SEQ_LEN\n",
        "dummy_input = torch.randint(0, vocab_size, (1, SEQ_LEN), device=DEVICE)\n",
        "torch.onnx.export(model, dummy_input, \"music_transformer.onnx\",\n",
        "                  input_names=[\"input\"], output_names=[\"output\"],\n",
        "                  dynamic_axes={\"input\": {0: \"batch_size\", 1: \"seq_len\"},\n",
        "                                \"output\": {0: \"batch_size\", 1: \"seq_len\"}})\n",
        "print(\"Model exported as music_transformer.onnx\")"
      ],
      "metadata": {
        "colab": {
          "base_uri": "https://localhost:8080/"
        },
        "id": "VfIun0mEXBKM",
        "outputId": "9e4b3220-7678-4724-ba9f-52b0b0213e3b"
      },
      "execution_count": 47,
      "outputs": [
        {
          "output_type": "stream",
          "name": "stdout",
          "text": [
            "Model exported as music_transformer.onnx\n"
          ]
        }
      ]
    }
  ]
}